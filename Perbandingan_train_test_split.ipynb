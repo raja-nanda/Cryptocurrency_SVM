{
  "nbformat": 4,
  "nbformat_minor": 0,
  "metadata": {
    "colab": {
      "provenance": []
    },
    "kernelspec": {
      "name": "python3",
      "display_name": "Python 3"
    },
    "language_info": {
      "name": "python"
    }
  },
  "cells": [
    {
      "cell_type": "code",
      "execution_count": null,
      "metadata": {
        "id": "UGQ6E64RxRVg"
      },
      "outputs": [],
      "source": [
        "import pandas as pd"
      ]
    },
    {
      "cell_type": "code",
      "source": [
        "df_prep = pd.read_csv('labelled_datasetbaru.csv',engine='python',usecols=['Lemma','label'])"
      ],
      "metadata": {
        "id": "vqgvKQhGxoCZ"
      },
      "execution_count": null,
      "outputs": []
    },
    {
      "cell_type": "code",
      "source": [
        "df_prep['label'].value_counts()"
      ],
      "metadata": {
        "colab": {
          "base_uri": "https://localhost:8080/"
        },
        "id": "rUgFMbelx4pB",
        "outputId": "a9d63020-d547-415a-b17e-26ebc1e141f8"
      },
      "execution_count": null,
      "outputs": [
        {
          "output_type": "execute_result",
          "data": {
            "text/plain": [
              "1    12283\n",
              "0     4904\n",
              "Name: label, dtype: int64"
            ]
          },
          "metadata": {},
          "execution_count": 3
        }
      ]
    },
    {
      "cell_type": "code",
      "source": [
        "s_1 = df_prep[df_prep['label']==0].sample(4904,replace=True)\n",
        "s_2 = df_prep[df_prep['label']==1].sample(4904,replace=True)\n",
        "df_prep = pd.concat([s_1,s_2])\n",
        "print(df_prep.shape)\n",
        "print(df_prep['label'].value_counts(normalize=True))"
      ],
      "metadata": {
        "colab": {
          "base_uri": "https://localhost:8080/"
        },
        "id": "-gtvlG-vyW0l",
        "outputId": "d07ec9df-5b3d-45e4-ed01-656e43a0fd74"
      },
      "execution_count": null,
      "outputs": [
        {
          "output_type": "stream",
          "name": "stdout",
          "text": [
            "(9808, 2)\n",
            "0    0.5\n",
            "1    0.5\n",
            "Name: label, dtype: float64\n"
          ]
        }
      ]
    },
    {
      "cell_type": "code",
      "source": [
        "df_prep.groupby(['label']).count().head()"
      ],
      "metadata": {
        "colab": {
          "base_uri": "https://localhost:8080/",
          "height": 143
        },
        "id": "we9cry_2yamx",
        "outputId": "738b3d4f-8a76-4d8a-dbee-6f6a1388e7bc"
      },
      "execution_count": null,
      "outputs": [
        {
          "output_type": "execute_result",
          "data": {
            "text/plain": [
              "       Lemma\n",
              "label       \n",
              "0       4904\n",
              "1       4904"
            ],
            "text/html": [
              "\n",
              "  <div id=\"df-9a68b9c5-eea9-4166-b2df-639a9dee4934\">\n",
              "    <div class=\"colab-df-container\">\n",
              "      <div>\n",
              "<style scoped>\n",
              "    .dataframe tbody tr th:only-of-type {\n",
              "        vertical-align: middle;\n",
              "    }\n",
              "\n",
              "    .dataframe tbody tr th {\n",
              "        vertical-align: top;\n",
              "    }\n",
              "\n",
              "    .dataframe thead th {\n",
              "        text-align: right;\n",
              "    }\n",
              "</style>\n",
              "<table border=\"1\" class=\"dataframe\">\n",
              "  <thead>\n",
              "    <tr style=\"text-align: right;\">\n",
              "      <th></th>\n",
              "      <th>Lemma</th>\n",
              "    </tr>\n",
              "    <tr>\n",
              "      <th>label</th>\n",
              "      <th></th>\n",
              "    </tr>\n",
              "  </thead>\n",
              "  <tbody>\n",
              "    <tr>\n",
              "      <th>0</th>\n",
              "      <td>4904</td>\n",
              "    </tr>\n",
              "    <tr>\n",
              "      <th>1</th>\n",
              "      <td>4904</td>\n",
              "    </tr>\n",
              "  </tbody>\n",
              "</table>\n",
              "</div>\n",
              "      <button class=\"colab-df-convert\" onclick=\"convertToInteractive('df-9a68b9c5-eea9-4166-b2df-639a9dee4934')\"\n",
              "              title=\"Convert this dataframe to an interactive table.\"\n",
              "              style=\"display:none;\">\n",
              "        \n",
              "  <svg xmlns=\"http://www.w3.org/2000/svg\" height=\"24px\"viewBox=\"0 0 24 24\"\n",
              "       width=\"24px\">\n",
              "    <path d=\"M0 0h24v24H0V0z\" fill=\"none\"/>\n",
              "    <path d=\"M18.56 5.44l.94 2.06.94-2.06 2.06-.94-2.06-.94-.94-2.06-.94 2.06-2.06.94zm-11 1L8.5 8.5l.94-2.06 2.06-.94-2.06-.94L8.5 2.5l-.94 2.06-2.06.94zm10 10l.94 2.06.94-2.06 2.06-.94-2.06-.94-.94-2.06-.94 2.06-2.06.94z\"/><path d=\"M17.41 7.96l-1.37-1.37c-.4-.4-.92-.59-1.43-.59-.52 0-1.04.2-1.43.59L10.3 9.45l-7.72 7.72c-.78.78-.78 2.05 0 2.83L4 21.41c.39.39.9.59 1.41.59.51 0 1.02-.2 1.41-.59l7.78-7.78 2.81-2.81c.8-.78.8-2.07 0-2.86zM5.41 20L4 18.59l7.72-7.72 1.47 1.35L5.41 20z\"/>\n",
              "  </svg>\n",
              "      </button>\n",
              "      \n",
              "  <style>\n",
              "    .colab-df-container {\n",
              "      display:flex;\n",
              "      flex-wrap:wrap;\n",
              "      gap: 12px;\n",
              "    }\n",
              "\n",
              "    .colab-df-convert {\n",
              "      background-color: #E8F0FE;\n",
              "      border: none;\n",
              "      border-radius: 50%;\n",
              "      cursor: pointer;\n",
              "      display: none;\n",
              "      fill: #1967D2;\n",
              "      height: 32px;\n",
              "      padding: 0 0 0 0;\n",
              "      width: 32px;\n",
              "    }\n",
              "\n",
              "    .colab-df-convert:hover {\n",
              "      background-color: #E2EBFA;\n",
              "      box-shadow: 0px 1px 2px rgba(60, 64, 67, 0.3), 0px 1px 3px 1px rgba(60, 64, 67, 0.15);\n",
              "      fill: #174EA6;\n",
              "    }\n",
              "\n",
              "    [theme=dark] .colab-df-convert {\n",
              "      background-color: #3B4455;\n",
              "      fill: #D2E3FC;\n",
              "    }\n",
              "\n",
              "    [theme=dark] .colab-df-convert:hover {\n",
              "      background-color: #434B5C;\n",
              "      box-shadow: 0px 1px 3px 1px rgba(0, 0, 0, 0.15);\n",
              "      filter: drop-shadow(0px 1px 2px rgba(0, 0, 0, 0.3));\n",
              "      fill: #FFFFFF;\n",
              "    }\n",
              "  </style>\n",
              "\n",
              "      <script>\n",
              "        const buttonEl =\n",
              "          document.querySelector('#df-9a68b9c5-eea9-4166-b2df-639a9dee4934 button.colab-df-convert');\n",
              "        buttonEl.style.display =\n",
              "          google.colab.kernel.accessAllowed ? 'block' : 'none';\n",
              "\n",
              "        async function convertToInteractive(key) {\n",
              "          const element = document.querySelector('#df-9a68b9c5-eea9-4166-b2df-639a9dee4934');\n",
              "          const dataTable =\n",
              "            await google.colab.kernel.invokeFunction('convertToInteractive',\n",
              "                                                     [key], {});\n",
              "          if (!dataTable) return;\n",
              "\n",
              "          const docLinkHtml = 'Like what you see? Visit the ' +\n",
              "            '<a target=\"_blank\" href=https://colab.research.google.com/notebooks/data_table.ipynb>data table notebook</a>'\n",
              "            + ' to learn more about interactive tables.';\n",
              "          element.innerHTML = '';\n",
              "          dataTable['output_type'] = 'display_data';\n",
              "          await google.colab.output.renderOutput(dataTable, element);\n",
              "          const docLink = document.createElement('div');\n",
              "          docLink.innerHTML = docLinkHtml;\n",
              "          element.appendChild(docLink);\n",
              "        }\n",
              "      </script>\n",
              "    </div>\n",
              "  </div>\n",
              "  "
            ]
          },
          "metadata": {},
          "execution_count": 5
        }
      ]
    },
    {
      "cell_type": "markdown",
      "source": [
        "**PERBANDINGAN**"
      ],
      "metadata": {
        "id": "xrvc4oLYytEY"
      }
    },
    {
      "cell_type": "code",
      "source": [
        "from sklearn.model_selection import train_test_split\n",
        "X = df_prep['Lemma']\n",
        "y = df_prep['label']\n",
        "X_trainA, X_testA, y_trainA, y_testA = train_test_split(X,y,test_size=0.2,stratify=y,random_state=0)\n",
        "X_trainB, X_testB, y_trainB, y_testB = train_test_split(X,y,test_size=0.3,stratify=y,random_state=0)\n",
        "X_trainC, X_testC, y_trainC, y_testC = train_test_split(X,y,test_size=0.4,stratify=y,random_state=0)\n",
        "X_trainD, X_testD, y_trainD, y_testD = train_test_split(X,y,test_size=0.5,stratify=y,random_state=0)\n",
        "X_trainE, X_testE, y_trainE, y_testE = train_test_split(X,y,test_size=0.1,stratify=y,random_state=0)"
      ],
      "metadata": {
        "id": "e3kzNgIxyvBJ"
      },
      "execution_count": null,
      "outputs": []
    },
    {
      "cell_type": "code",
      "source": [
        "from sklearn.feature_extraction.text import TfidfVectorizer\n",
        "vectorizer = TfidfVectorizer()"
      ],
      "metadata": {
        "id": "Rp6eQmj32Kid"
      },
      "execution_count": null,
      "outputs": []
    },
    {
      "cell_type": "code",
      "source": [
        "X_trainA = vectorizer.fit_transform(X_trainA)\n",
        "X_testA = vectorizer.transform(X_testA)\n",
        "\n",
        "X_trainB = vectorizer.fit_transform(X_trainB)\n",
        "X_testB = vectorizer.transform(X_testB)\n",
        "\n",
        "X_trainC = vectorizer.fit_transform(X_trainC)\n",
        "X_testC = vectorizer.transform(X_testC)\n",
        "\n",
        "X_trainD = vectorizer.fit_transform(X_trainD)\n",
        "X_testD = vectorizer.transform(X_testD)\n",
        "\n",
        "X_trainE = vectorizer.fit_transform(X_trainE)\n",
        "X_testE = vectorizer.transform(X_testE)"
      ],
      "metadata": {
        "id": "I2iJwy9N2Rtq"
      },
      "execution_count": null,
      "outputs": []
    },
    {
      "cell_type": "code",
      "source": [
        "from sklearn import svm\n",
        "from sklearn.model_selection import cross_val_score\n",
        "clf = svm.SVC(kernel='linear')"
      ],
      "metadata": {
        "id": "cHycjWPf2usC"
      },
      "execution_count": null,
      "outputs": []
    },
    {
      "cell_type": "code",
      "source": [
        "clf.fit(X_trainA,y_trainA)\n",
        "predictA = clf.predict(X_testA)\n",
        "\n",
        "clf.fit(X_trainB,y_trainB)\n",
        "predictB = clf.predict(X_testB)\n",
        "\n",
        "clf.fit(X_trainC,y_trainC)\n",
        "predictC = clf.predict(X_testC)\n",
        "\n",
        "clf.fit(X_trainD,y_trainD)\n",
        "predictD = clf.predict(X_testD)\n",
        "\n",
        "clf.fit(X_trainE,y_trainE)\n",
        "predictE = clf.predict(X_testE)"
      ],
      "metadata": {
        "id": "aTxCAArQ23TB"
      },
      "execution_count": null,
      "outputs": []
    },
    {
      "cell_type": "code",
      "source": [
        "from sklearn.metrics import f1_score, recall_score, precision_score, confusion_matrix, accuracy_score, classification_report\n"
      ],
      "metadata": {
        "id": "EH149dw23iun"
      },
      "execution_count": null,
      "outputs": []
    },
    {
      "cell_type": "code",
      "source": [
        "print('Akurasi untuk 0.1:',accuracy_score(y_testE,predictE))\n",
        "print('Akurasi untuk 0.2:',accuracy_score(y_testA,predictA))\n",
        "print('Akurasi untuk 0.3:',accuracy_score(y_testB,predictB))\n",
        "print('Akurasi untuk 0.4:',accuracy_score(y_testC,predictC))\n",
        "print('Akurasi untuk 0.5:',accuracy_score(y_testD,predictD))"
      ],
      "metadata": {
        "colab": {
          "base_uri": "https://localhost:8080/"
        },
        "id": "pwqglBxW3j3S",
        "outputId": "6d95fe5e-c8b2-4ed8-e7b8-8476bb75bbfd"
      },
      "execution_count": null,
      "outputs": [
        {
          "output_type": "stream",
          "name": "stdout",
          "text": [
            "Akurasi untuk 0.1: 0.9480122324159022\n",
            "Akurasi untuk 0.2: 0.9531090723751274\n",
            "Akurasi untuk 0.3: 0.9435949711179069\n",
            "Akurasi untuk 0.4: 0.9385830784913354\n",
            "Akurasi untuk 0.5: 0.9235318107667211\n"
          ]
        }
      ]
    }
  ]
}