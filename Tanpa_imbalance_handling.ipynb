{
  "cells": [
    {
      "cell_type": "code",
      "execution_count": null,
      "metadata": {
        "id": "rRTyCjI9-VkF"
      },
      "outputs": [],
      "source": [
        "import pandas as pd"
      ]
    },
    {
      "cell_type": "code",
      "execution_count": null,
      "metadata": {
        "id": "v5tCs043ApO5"
      },
      "outputs": [],
      "source": [
        "df_prep = pd.read_csv('labelled_datasetbaru.csv',engine='python',usecols=['Lemma','label'])"
      ]
    },
    {
      "cell_type": "code",
      "execution_count": null,
      "metadata": {
        "colab": {
          "base_uri": "https://localhost:8080/"
        },
        "id": "HR9TULomAz1C",
        "outputId": "9111586f-b8fe-4a7b-dd6a-5a5ddfce37bc"
      },
      "outputs": [
        {
          "output_type": "stream",
          "name": "stdout",
          "text": [
            "<class 'pandas.core.frame.DataFrame'>\n",
            "RangeIndex: 17187 entries, 0 to 17186\n",
            "Data columns (total 2 columns):\n",
            " #   Column  Non-Null Count  Dtype \n",
            "---  ------  --------------  ----- \n",
            " 0   Lemma   17187 non-null  object\n",
            " 1   label   17187 non-null  int64 \n",
            "dtypes: int64(1), object(1)\n",
            "memory usage: 268.7+ KB\n"
          ]
        }
      ],
      "source": [
        "df_prep.info()"
      ]
    },
    {
      "cell_type": "code",
      "execution_count": null,
      "metadata": {
        "colab": {
          "base_uri": "https://localhost:8080/"
        },
        "id": "jkNFgg4rCv7w",
        "outputId": "50c542c9-b90b-4e0d-bb42-0d471f231d2b"
      },
      "outputs": [
        {
          "output_type": "execute_result",
          "data": {
            "text/plain": [
              "1    12283\n",
              "0     4904\n",
              "Name: label, dtype: int64"
            ]
          },
          "metadata": {},
          "execution_count": 4
        }
      ],
      "source": [
        "df_prep['label'].value_counts()"
      ]
    },
    {
      "cell_type": "code",
      "execution_count": null,
      "metadata": {
        "colab": {
          "base_uri": "https://localhost:8080/"
        },
        "id": "GutRwsZXQMHp",
        "outputId": "b8b49d6b-8a98-4f67-97f2-fbd5f76f22a2"
      },
      "outputs": [
        {
          "output_type": "stream",
          "name": "stdout",
          "text": [
            "(17187, 2)\n",
            "1    0.714668\n",
            "0    0.285332\n",
            "Name: label, dtype: float64\n"
          ]
        }
      ],
      "source": [
        "print(df_prep.shape)\n",
        "print(df_prep['label'].value_counts(normalize=True))"
      ]
    },
    {
      "cell_type": "code",
      "source": [
        "df_prep.groupby(['label']).count().head()"
      ],
      "metadata": {
        "colab": {
          "base_uri": "https://localhost:8080/",
          "height": 143
        },
        "id": "IVVcWCl9D0m4",
        "outputId": "7c0376fa-6ad6-4369-c7ee-7800470d44d9"
      },
      "execution_count": null,
      "outputs": [
        {
          "output_type": "execute_result",
          "data": {
            "text/plain": [
              "       Lemma\n",
              "label       \n",
              "0       4904\n",
              "1      12283"
            ],
            "text/html": [
              "\n",
              "  <div id=\"df-411bafdd-1193-46c3-a753-cb3a4dbb5635\">\n",
              "    <div class=\"colab-df-container\">\n",
              "      <div>\n",
              "<style scoped>\n",
              "    .dataframe tbody tr th:only-of-type {\n",
              "        vertical-align: middle;\n",
              "    }\n",
              "\n",
              "    .dataframe tbody tr th {\n",
              "        vertical-align: top;\n",
              "    }\n",
              "\n",
              "    .dataframe thead th {\n",
              "        text-align: right;\n",
              "    }\n",
              "</style>\n",
              "<table border=\"1\" class=\"dataframe\">\n",
              "  <thead>\n",
              "    <tr style=\"text-align: right;\">\n",
              "      <th></th>\n",
              "      <th>Lemma</th>\n",
              "    </tr>\n",
              "    <tr>\n",
              "      <th>label</th>\n",
              "      <th></th>\n",
              "    </tr>\n",
              "  </thead>\n",
              "  <tbody>\n",
              "    <tr>\n",
              "      <th>0</th>\n",
              "      <td>4904</td>\n",
              "    </tr>\n",
              "    <tr>\n",
              "      <th>1</th>\n",
              "      <td>12283</td>\n",
              "    </tr>\n",
              "  </tbody>\n",
              "</table>\n",
              "</div>\n",
              "      <button class=\"colab-df-convert\" onclick=\"convertToInteractive('df-411bafdd-1193-46c3-a753-cb3a4dbb5635')\"\n",
              "              title=\"Convert this dataframe to an interactive table.\"\n",
              "              style=\"display:none;\">\n",
              "        \n",
              "  <svg xmlns=\"http://www.w3.org/2000/svg\" height=\"24px\"viewBox=\"0 0 24 24\"\n",
              "       width=\"24px\">\n",
              "    <path d=\"M0 0h24v24H0V0z\" fill=\"none\"/>\n",
              "    <path d=\"M18.56 5.44l.94 2.06.94-2.06 2.06-.94-2.06-.94-.94-2.06-.94 2.06-2.06.94zm-11 1L8.5 8.5l.94-2.06 2.06-.94-2.06-.94L8.5 2.5l-.94 2.06-2.06.94zm10 10l.94 2.06.94-2.06 2.06-.94-2.06-.94-.94-2.06-.94 2.06-2.06.94z\"/><path d=\"M17.41 7.96l-1.37-1.37c-.4-.4-.92-.59-1.43-.59-.52 0-1.04.2-1.43.59L10.3 9.45l-7.72 7.72c-.78.78-.78 2.05 0 2.83L4 21.41c.39.39.9.59 1.41.59.51 0 1.02-.2 1.41-.59l7.78-7.78 2.81-2.81c.8-.78.8-2.07 0-2.86zM5.41 20L4 18.59l7.72-7.72 1.47 1.35L5.41 20z\"/>\n",
              "  </svg>\n",
              "      </button>\n",
              "      \n",
              "  <style>\n",
              "    .colab-df-container {\n",
              "      display:flex;\n",
              "      flex-wrap:wrap;\n",
              "      gap: 12px;\n",
              "    }\n",
              "\n",
              "    .colab-df-convert {\n",
              "      background-color: #E8F0FE;\n",
              "      border: none;\n",
              "      border-radius: 50%;\n",
              "      cursor: pointer;\n",
              "      display: none;\n",
              "      fill: #1967D2;\n",
              "      height: 32px;\n",
              "      padding: 0 0 0 0;\n",
              "      width: 32px;\n",
              "    }\n",
              "\n",
              "    .colab-df-convert:hover {\n",
              "      background-color: #E2EBFA;\n",
              "      box-shadow: 0px 1px 2px rgba(60, 64, 67, 0.3), 0px 1px 3px 1px rgba(60, 64, 67, 0.15);\n",
              "      fill: #174EA6;\n",
              "    }\n",
              "\n",
              "    [theme=dark] .colab-df-convert {\n",
              "      background-color: #3B4455;\n",
              "      fill: #D2E3FC;\n",
              "    }\n",
              "\n",
              "    [theme=dark] .colab-df-convert:hover {\n",
              "      background-color: #434B5C;\n",
              "      box-shadow: 0px 1px 3px 1px rgba(0, 0, 0, 0.15);\n",
              "      filter: drop-shadow(0px 1px 2px rgba(0, 0, 0, 0.3));\n",
              "      fill: #FFFFFF;\n",
              "    }\n",
              "  </style>\n",
              "\n",
              "      <script>\n",
              "        const buttonEl =\n",
              "          document.querySelector('#df-411bafdd-1193-46c3-a753-cb3a4dbb5635 button.colab-df-convert');\n",
              "        buttonEl.style.display =\n",
              "          google.colab.kernel.accessAllowed ? 'block' : 'none';\n",
              "\n",
              "        async function convertToInteractive(key) {\n",
              "          const element = document.querySelector('#df-411bafdd-1193-46c3-a753-cb3a4dbb5635');\n",
              "          const dataTable =\n",
              "            await google.colab.kernel.invokeFunction('convertToInteractive',\n",
              "                                                     [key], {});\n",
              "          if (!dataTable) return;\n",
              "\n",
              "          const docLinkHtml = 'Like what you see? Visit the ' +\n",
              "            '<a target=\"_blank\" href=https://colab.research.google.com/notebooks/data_table.ipynb>data table notebook</a>'\n",
              "            + ' to learn more about interactive tables.';\n",
              "          element.innerHTML = '';\n",
              "          dataTable['output_type'] = 'display_data';\n",
              "          await google.colab.output.renderOutput(dataTable, element);\n",
              "          const docLink = document.createElement('div');\n",
              "          docLink.innerHTML = docLinkHtml;\n",
              "          element.appendChild(docLink);\n",
              "        }\n",
              "      </script>\n",
              "    </div>\n",
              "  </div>\n",
              "  "
            ]
          },
          "metadata": {},
          "execution_count": 6
        }
      ]
    },
    {
      "cell_type": "code",
      "execution_count": null,
      "metadata": {
        "id": "PUH93XSoK2hZ"
      },
      "outputs": [],
      "source": [
        "from sklearn.model_selection import train_test_split\n",
        "X = df_prep['Lemma']\n",
        "y = df_prep['label']\n",
        "X_trainA, X_testA, y_trainA, y_testA = train_test_split(X,y,test_size=0.1,stratify=y,random_state=0)\n",
        "X_trainB, X_testB, y_trainB, y_testB = train_test_split(X,y,test_size=0.2,stratify=y,random_state=0)\n",
        "X_trainC, X_testC, y_trainC, y_testC = train_test_split(X,y,test_size=0.3,stratify=y,random_state=0)"
      ]
    },
    {
      "cell_type": "code",
      "execution_count": null,
      "metadata": {
        "id": "4xyIQfiyMu-Q"
      },
      "outputs": [],
      "source": [
        "from sklearn.feature_extraction.text import TfidfVectorizer"
      ]
    },
    {
      "cell_type": "code",
      "execution_count": null,
      "metadata": {
        "id": "8yxou4ViM_DY"
      },
      "outputs": [],
      "source": [
        "vectorizer = TfidfVectorizer()"
      ]
    },
    {
      "cell_type": "code",
      "execution_count": null,
      "metadata": {
        "colab": {
          "base_uri": "https://localhost:8080/"
        },
        "id": "YVg8gc83NYth",
        "outputId": "ae45b682-3705-47b1-e1c9-7c92c905d73d"
      },
      "outputs": [
        {
          "output_type": "stream",
          "name": "stdout",
          "text": [
            "(15468, 15791)\n",
            "(1719, 15791)\n"
          ]
        }
      ],
      "source": [
        "X_trainA = vectorizer.fit_transform(X_trainA)\n",
        "X_testA = vectorizer.transform(X_testA)\n",
        "print(X_trainA.shape)\n",
        "print(X_testA.shape)"
      ]
    },
    {
      "cell_type": "code",
      "source": [
        "X_trainB = vectorizer.fit_transform(X_trainB)\n",
        "X_testB = vectorizer.transform(X_testB)\n",
        "print(X_trainB.shape)\n",
        "print(X_testB.shape)"
      ],
      "metadata": {
        "colab": {
          "base_uri": "https://localhost:8080/"
        },
        "id": "hATJmrHG-Pq5",
        "outputId": "c5fee33c-80e0-4071-cb99-769a1d511852"
      },
      "execution_count": null,
      "outputs": [
        {
          "output_type": "stream",
          "name": "stdout",
          "text": [
            "(13749, 14808)\n",
            "(3438, 14808)\n"
          ]
        }
      ]
    },
    {
      "cell_type": "code",
      "source": [
        "X_trainC = vectorizer.fit_transform(X_trainC)\n",
        "X_testC = vectorizer.transform(X_testC)\n",
        "print(X_trainC.shape)\n",
        "print(X_testC.shape)"
      ],
      "metadata": {
        "colab": {
          "base_uri": "https://localhost:8080/"
        },
        "id": "7qCQ3AUO-UHB",
        "outputId": "e2acd282-ff27-45c0-8206-e54ec1548181"
      },
      "execution_count": null,
      "outputs": [
        {
          "output_type": "stream",
          "name": "stdout",
          "text": [
            "(12030, 13758)\n",
            "(5157, 13758)\n"
          ]
        }
      ]
    },
    {
      "cell_type": "code",
      "execution_count": null,
      "metadata": {
        "colab": {
          "base_uri": "https://localhost:8080/"
        },
        "id": "IazpmravIEVN",
        "outputId": "cf3ee861-2086-4d29-8435-c67ae6e92bc4"
      },
      "outputs": [
        {
          "output_type": "stream",
          "name": "stdout",
          "text": [
            "(17187, 13758)\n"
          ]
        }
      ],
      "source": [
        "X = df_prep['Lemma']\n",
        "y = df_prep['label']\n",
        "\n",
        "X = vectorizer.transform(X)\n",
        "print(X.shape)"
      ]
    },
    {
      "cell_type": "code",
      "execution_count": null,
      "metadata": {
        "id": "CjwK7Yz6RpWN"
      },
      "outputs": [],
      "source": [
        "from sklearn import svm\n",
        "from sklearn.model_selection import cross_val_score\n",
        "clf = svm.SVC(kernel='linear')"
      ]
    },
    {
      "cell_type": "code",
      "execution_count": null,
      "metadata": {
        "id": "3ApJOIqdSJta"
      },
      "outputs": [],
      "source": [
        "clf.fit(X_trainA,y_trainA)\n",
        "predictA = clf.predict(X_testA)"
      ]
    },
    {
      "cell_type": "code",
      "source": [
        "import numpy\n",
        "unique, counts = numpy.unique(predictA, return_counts=True)\n",
        "dict(zip(unique, counts))"
      ],
      "metadata": {
        "colab": {
          "base_uri": "https://localhost:8080/"
        },
        "id": "WzIkEzRmXyxA",
        "outputId": "0c918f3f-8f23-49dd-86b2-8258e4da5a5b"
      },
      "execution_count": null,
      "outputs": [
        {
          "output_type": "execute_result",
          "data": {
            "text/plain": [
              "{0: 471, 1: 1248}"
            ]
          },
          "metadata": {},
          "execution_count": 22
        }
      ]
    },
    {
      "cell_type": "code",
      "source": [
        "clf.fit(X_trainB,y_trainB)\n",
        "predictB = clf.predict(X_testB)"
      ],
      "metadata": {
        "id": "ZgKLd0oR-dbg"
      },
      "execution_count": null,
      "outputs": []
    },
    {
      "cell_type": "code",
      "source": [
        "unique, counts = numpy.unique(predictB, return_counts=True)\n",
        "dict(zip(unique, counts))"
      ],
      "metadata": {
        "id": "ncNhd6MeX4cl",
        "outputId": "e7c73997-f383-4fcc-83d2-734f4a3c38ed",
        "colab": {
          "base_uri": "https://localhost:8080/"
        }
      },
      "execution_count": null,
      "outputs": [
        {
          "output_type": "execute_result",
          "data": {
            "text/plain": [
              "{0: 911, 1: 2527}"
            ]
          },
          "metadata": {},
          "execution_count": 23
        }
      ]
    },
    {
      "cell_type": "code",
      "source": [
        "clf.fit(X_trainC,y_trainC)\n",
        "predictC = clf.predict(X_testC)"
      ],
      "metadata": {
        "id": "pQZ2dBpx-ssP"
      },
      "execution_count": null,
      "outputs": []
    },
    {
      "cell_type": "code",
      "source": [
        "unique, counts = numpy.unique(predictC, return_counts=True)\n",
        "dict(zip(unique, counts))"
      ],
      "metadata": {
        "id": "fN_dIV_7X7Zr",
        "outputId": "c81d0244-fa8f-49cf-f8cf-7358c21d4457",
        "colab": {
          "base_uri": "https://localhost:8080/"
        }
      },
      "execution_count": null,
      "outputs": [
        {
          "output_type": "execute_result",
          "data": {
            "text/plain": [
              "{0: 1338, 1: 3819}"
            ]
          },
          "metadata": {},
          "execution_count": 24
        }
      ]
    },
    {
      "cell_type": "code",
      "execution_count": null,
      "metadata": {
        "id": "50tRGTVzSWVm"
      },
      "outputs": [],
      "source": [
        "from sklearn.metrics import f1_score, recall_score, precision_score, confusion_matrix, accuracy_score, classification_report\n"
      ]
    },
    {
      "cell_type": "code",
      "execution_count": null,
      "metadata": {
        "colab": {
          "base_uri": "https://localhost:8080/"
        },
        "id": "_wBa1lExSqkS",
        "outputId": "4fbc84fa-198b-4ba8-e373-a7dcde5168ff"
      },
      "outputs": [
        {
          "output_type": "stream",
          "name": "stdout",
          "text": [
            "=== SPLIT 90 : 10 ===\n",
            "f1 score hasil prediksi adalah :  0.951150585385547\n",
            "accuracy score hasil prediksi adalah:  0.9296102385107621\n",
            "precision score hasil prediksi adalah:  0.9439102564102564\n",
            "recall score hasil prediksi adalah:  0.9585028478437754\n",
            "CONFUSION MATRIX :\n",
            "TP = 1178\n",
            "FP = 70\n",
            "TN = 420\n",
            "FN = 51\n",
            " \n",
            "=== SPLIT 80 : 20 ===\n",
            "f1 score hasil prediksi adalah :  0.9546548956661316\n",
            "accuracy score hasil prediksi adalah:  0.9342641070389761\n",
            "precision score hasil prediksi adalah:  0.9414325286901464\n",
            "recall score hasil prediksi adalah:  0.9682539682539683\n",
            "CONFUSION MATRIX :\n",
            "TP = 2379\n",
            "FP = 148\n",
            "TN = 833\n",
            "FN = 78\n",
            " \n",
            "=== SPLIT 70 : 30 ===\n",
            "f1 score hasil prediksi adalah :  0.9502998001332446\n",
            "accuracy score hasil prediksi adalah:  0.9276711266240062\n",
            "precision score hasil prediksi adalah:  0.9337522911757005\n",
            "recall score hasil prediksi adalah:  0.967444384156267\n",
            "CONFUSION MATRIX :\n",
            "TP = 3566\n",
            "FP = 253\n",
            "TN = 1218\n",
            "FN = 120\n"
          ]
        }
      ],
      "source": [
        "print('=== SPLIT 90 : 10 ===')\n",
        "print('f1 score hasil prediksi adalah : ',f1_score(y_testA, predictA))\n",
        "print('accuracy score hasil prediksi adalah: ',accuracy_score(y_testA,predictA))\n",
        "print('precision score hasil prediksi adalah: ',precision_score(y_testA,predictA))\n",
        "print('recall score hasil prediksi adalah: ',recall_score(y_testA,predictA))\n",
        "print('CONFUSION MATRIX :')\n",
        "tn, fp, fn, tp = confusion_matrix(y_testA,predictA).ravel()\n",
        "print('TP =',tp)\n",
        "print('FP =',fp)\n",
        "print('TN =',tn)\n",
        "print('FN =',fn)\n",
        "print(' ')\n",
        "print('=== SPLIT 80 : 20 ===')\n",
        "print('f1 score hasil prediksi adalah : ',f1_score(y_testB, predictB))\n",
        "print('accuracy score hasil prediksi adalah: ',accuracy_score(y_testB,predictB))\n",
        "print('precision score hasil prediksi adalah: ',precision_score(y_testB,predictB))\n",
        "print('recall score hasil prediksi adalah: ',recall_score(y_testB,predictB))\n",
        "print('CONFUSION MATRIX :')\n",
        "tn1, fp1, fn1, tp1 = confusion_matrix(y_testB,predictB).ravel()\n",
        "print('TP =',tp1)\n",
        "print('FP =',fp1)\n",
        "print('TN =',tn1)\n",
        "print('FN =',fn1)\n",
        "print(' ')\n",
        "print('=== SPLIT 70 : 30 ===')\n",
        "print('f1 score hasil prediksi adalah : ',f1_score(y_testC, predictC))\n",
        "print('accuracy score hasil prediksi adalah: ',accuracy_score(y_testC,predictC))\n",
        "print('precision score hasil prediksi adalah: ',precision_score(y_testC,predictC))\n",
        "print('recall score hasil prediksi adalah: ',recall_score(y_testC,predictC))\n",
        "print('CONFUSION MATRIX :')\n",
        "tn2, fp2, fn2, tp2 = confusion_matrix(y_testC,predictC).ravel()\n",
        "print('TP =',tp2)\n",
        "print('FP =',fp2)\n",
        "print('TN =',tn2)\n",
        "print('FN =',fn2)\n"
      ]
    },
    {
      "cell_type": "code",
      "execution_count": null,
      "metadata": {
        "colab": {
          "base_uri": "https://localhost:8080/"
        },
        "id": "gV9oVxbzbb68",
        "outputId": "ba6f7dcc-3b0d-438b-91b0-091713f82f59"
      },
      "outputs": [
        {
          "output_type": "stream",
          "name": "stdout",
          "text": [
            "=== classification report A ===\n",
            "              precision    recall  f1-score   support\n",
            "\n",
            "           0       0.89      0.86      0.87       490\n",
            "           1       0.94      0.96      0.95      1229\n",
            "\n",
            "    accuracy                           0.93      1719\n",
            "   macro avg       0.92      0.91      0.91      1719\n",
            "weighted avg       0.93      0.93      0.93      1719\n",
            "\n",
            "=== classification report B ===\n",
            "              precision    recall  f1-score   support\n",
            "\n",
            "           0       0.91      0.85      0.88       981\n",
            "           1       0.94      0.97      0.95      2457\n",
            "\n",
            "    accuracy                           0.93      3438\n",
            "   macro avg       0.93      0.91      0.92      3438\n",
            "weighted avg       0.93      0.93      0.93      3438\n",
            "\n",
            "=== classification report C ===\n",
            "              precision    recall  f1-score   support\n",
            "\n",
            "           0       0.91      0.83      0.87      1471\n",
            "           1       0.93      0.97      0.95      3686\n",
            "\n",
            "    accuracy                           0.93      5157\n",
            "   macro avg       0.92      0.90      0.91      5157\n",
            "weighted avg       0.93      0.93      0.93      5157\n",
            "\n"
          ]
        }
      ],
      "source": [
        "from sklearn.metrics import classification_report\n",
        "print('=== classification report A ===')\n",
        "p = classification_report(y_testA, predictA)\n",
        "print(p)\n",
        "print('=== classification report B ===')\n",
        "p1 = classification_report(y_testB, predictB)\n",
        "print(p1)\n",
        "print('=== classification report C ===')\n",
        "p2 = classification_report(y_testC, predictC)\n",
        "print(p2)"
      ]
    },
    {
      "cell_type": "code",
      "execution_count": null,
      "metadata": {
        "colab": {
          "base_uri": "https://localhost:8080/"
        },
        "id": "SYR0pg6K5g-M",
        "outputId": "661b1a38-b2fe-412d-a809-8dc02eeeaf1f"
      },
      "outputs": [
        {
          "output_type": "stream",
          "name": "stdout",
          "text": [
            "[0.93542757 0.9237929  0.92611984 0.92670157 0.92961024 0.92786504\n",
            " 0.93368237 0.93597206 0.94412107 0.93422584]\n",
            "Accuracy: 93.18 %\n",
            "Standard Deviation : 0.58 %\n"
          ]
        }
      ],
      "source": [
        "accuracies = cross_val_score(clf,X,y, cv=10)\n",
        "print(accuracies)\n",
        "print(\"Accuracy: {:.2f} %\".format(accuracies.mean()*100))\n",
        "print('Standard Deviation : {:.2f} %'.format(accuracies.std()*100))"
      ]
    },
    {
      "cell_type": "code",
      "execution_count": null,
      "metadata": {
        "id": "88IuY14LgpMa"
      },
      "outputs": [],
      "source": []
    }
  ],
  "metadata": {
    "colab": {
      "collapsed_sections": [],
      "provenance": []
    },
    "kernelspec": {
      "display_name": "Python 3",
      "name": "python3"
    },
    "language_info": {
      "name": "python"
    }
  },
  "nbformat": 4,
  "nbformat_minor": 0
}