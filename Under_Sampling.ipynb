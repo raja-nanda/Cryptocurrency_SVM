{
  "cells": [
    {
      "cell_type": "code",
      "execution_count": null,
      "metadata": {
        "colab": {
          "background_save": true
        },
        "id": "rRTyCjI9-VkF"
      },
      "outputs": [],
      "source": [
        "import pandas as pd"
      ]
    },
    {
      "cell_type": "code",
      "execution_count": null,
      "metadata": {
        "colab": {
          "background_save": true
        },
        "id": "v5tCs043ApO5"
      },
      "outputs": [],
      "source": [
        "df = pd.read_csv('labelled_datasetbaru.csv', usecols = ['Lemma','label'])"
      ]
    },
    {
      "cell_type": "code",
      "execution_count": null,
      "metadata": {
        "colab": {
          "background_save": true,
          "base_uri": "https://localhost:8080/"
        },
        "id": "HR9TULomAz1C",
        "outputId": "80252a38-9842-4ad1-cb8d-45af350af21b"
      },
      "outputs": [
        {
          "name": "stdout",
          "output_type": "stream",
          "text": [
            "<class 'pandas.core.frame.DataFrame'>\n",
            "RangeIndex: 17187 entries, 0 to 17186\n",
            "Data columns (total 2 columns):\n",
            " #   Column  Non-Null Count  Dtype \n",
            "---  ------  --------------  ----- \n",
            " 0   Lemma   17187 non-null  object\n",
            " 1   label   17187 non-null  int64 \n",
            "dtypes: int64(1), object(1)\n",
            "memory usage: 268.7+ KB\n"
          ]
        }
      ],
      "source": [
        "df.info()"
      ]
    },
    {
      "cell_type": "code",
      "execution_count": null,
      "metadata": {
        "colab": {
          "background_save": true,
          "base_uri": "https://localhost:8080/"
        },
        "id": "n1G3ZJN5BE5T",
        "outputId": "947b925f-3048-4a90-893b-2c7dc674c276"
      },
      "outputs": [
        {
          "data": {
            "text/plain": [
              "1    12283\n",
              "0     4904\n",
              "Name: label, dtype: int64"
            ]
          },
          "execution_count": 36,
          "metadata": {},
          "output_type": "execute_result"
        }
      ],
      "source": [
        "df['label'].value_counts()"
      ]
    },
    {
      "cell_type": "code",
      "execution_count": null,
      "metadata": {
        "colab": {
          "background_save": true,
          "base_uri": "https://localhost:8080/"
        },
        "id": "GutRwsZXQMHp",
        "outputId": "ac7e62f7-abdc-4951-8101-2a715fe5ed5a"
      },
      "outputs": [
        {
          "name": "stdout",
          "output_type": "stream",
          "text": [
            "(9808, 2)\n",
            "0    0.5\n",
            "1    0.5\n",
            "Name: label, dtype: float64\n"
          ]
        }
      ],
      "source": [
        "s_1 = df[df['label']==0].sample(4904,replace=True)\n",
        "s_2 = df[df['label']==1].sample(4904,replace=True)\n",
        "df = pd.concat([s_1,s_2])\n",
        "print(df.shape)\n",
        "print(df['label'].value_counts(normalize=True))"
      ]
    },
    {
      "cell_type": "code",
      "execution_count": null,
      "metadata": {
        "colab": {
          "background_save": true,
          "base_uri": "https://localhost:8080/",
          "height": 143
        },
        "id": "IVVcWCl9D0m4",
        "outputId": "6d3618cf-11d2-4862-9d43-8cbbe7dd4da5"
      },
      "outputs": [
        {
          "data": {
            "text/html": [
              "\n",
              "  <div id=\"df-e2fd3692-dbb1-4bf9-aa9b-8ecdf0134d3e\">\n",
              "    <div class=\"colab-df-container\">\n",
              "      <div>\n",
              "<style scoped>\n",
              "    .dataframe tbody tr th:only-of-type {\n",
              "        vertical-align: middle;\n",
              "    }\n",
              "\n",
              "    .dataframe tbody tr th {\n",
              "        vertical-align: top;\n",
              "    }\n",
              "\n",
              "    .dataframe thead th {\n",
              "        text-align: right;\n",
              "    }\n",
              "</style>\n",
              "<table border=\"1\" class=\"dataframe\">\n",
              "  <thead>\n",
              "    <tr style=\"text-align: right;\">\n",
              "      <th></th>\n",
              "      <th>Lemma</th>\n",
              "    </tr>\n",
              "    <tr>\n",
              "      <th>label</th>\n",
              "      <th></th>\n",
              "    </tr>\n",
              "  </thead>\n",
              "  <tbody>\n",
              "    <tr>\n",
              "      <th>0</th>\n",
              "      <td>4904</td>\n",
              "    </tr>\n",
              "    <tr>\n",
              "      <th>1</th>\n",
              "      <td>4904</td>\n",
              "    </tr>\n",
              "  </tbody>\n",
              "</table>\n",
              "</div>\n",
              "      <button class=\"colab-df-convert\" onclick=\"convertToInteractive('df-e2fd3692-dbb1-4bf9-aa9b-8ecdf0134d3e')\"\n",
              "              title=\"Convert this dataframe to an interactive table.\"\n",
              "              style=\"display:none;\">\n",
              "        \n",
              "  <svg xmlns=\"http://www.w3.org/2000/svg\" height=\"24px\"viewBox=\"0 0 24 24\"\n",
              "       width=\"24px\">\n",
              "    <path d=\"M0 0h24v24H0V0z\" fill=\"none\"/>\n",
              "    <path d=\"M18.56 5.44l.94 2.06.94-2.06 2.06-.94-2.06-.94-.94-2.06-.94 2.06-2.06.94zm-11 1L8.5 8.5l.94-2.06 2.06-.94-2.06-.94L8.5 2.5l-.94 2.06-2.06.94zm10 10l.94 2.06.94-2.06 2.06-.94-2.06-.94-.94-2.06-.94 2.06-2.06.94z\"/><path d=\"M17.41 7.96l-1.37-1.37c-.4-.4-.92-.59-1.43-.59-.52 0-1.04.2-1.43.59L10.3 9.45l-7.72 7.72c-.78.78-.78 2.05 0 2.83L4 21.41c.39.39.9.59 1.41.59.51 0 1.02-.2 1.41-.59l7.78-7.78 2.81-2.81c.8-.78.8-2.07 0-2.86zM5.41 20L4 18.59l7.72-7.72 1.47 1.35L5.41 20z\"/>\n",
              "  </svg>\n",
              "      </button>\n",
              "      \n",
              "  <style>\n",
              "    .colab-df-container {\n",
              "      display:flex;\n",
              "      flex-wrap:wrap;\n",
              "      gap: 12px;\n",
              "    }\n",
              "\n",
              "    .colab-df-convert {\n",
              "      background-color: #E8F0FE;\n",
              "      border: none;\n",
              "      border-radius: 50%;\n",
              "      cursor: pointer;\n",
              "      display: none;\n",
              "      fill: #1967D2;\n",
              "      height: 32px;\n",
              "      padding: 0 0 0 0;\n",
              "      width: 32px;\n",
              "    }\n",
              "\n",
              "    .colab-df-convert:hover {\n",
              "      background-color: #E2EBFA;\n",
              "      box-shadow: 0px 1px 2px rgba(60, 64, 67, 0.3), 0px 1px 3px 1px rgba(60, 64, 67, 0.15);\n",
              "      fill: #174EA6;\n",
              "    }\n",
              "\n",
              "    [theme=dark] .colab-df-convert {\n",
              "      background-color: #3B4455;\n",
              "      fill: #D2E3FC;\n",
              "    }\n",
              "\n",
              "    [theme=dark] .colab-df-convert:hover {\n",
              "      background-color: #434B5C;\n",
              "      box-shadow: 0px 1px 3px 1px rgba(0, 0, 0, 0.15);\n",
              "      filter: drop-shadow(0px 1px 2px rgba(0, 0, 0, 0.3));\n",
              "      fill: #FFFFFF;\n",
              "    }\n",
              "  </style>\n",
              "\n",
              "      <script>\n",
              "        const buttonEl =\n",
              "          document.querySelector('#df-e2fd3692-dbb1-4bf9-aa9b-8ecdf0134d3e button.colab-df-convert');\n",
              "        buttonEl.style.display =\n",
              "          google.colab.kernel.accessAllowed ? 'block' : 'none';\n",
              "\n",
              "        async function convertToInteractive(key) {\n",
              "          const element = document.querySelector('#df-e2fd3692-dbb1-4bf9-aa9b-8ecdf0134d3e');\n",
              "          const dataTable =\n",
              "            await google.colab.kernel.invokeFunction('convertToInteractive',\n",
              "                                                     [key], {});\n",
              "          if (!dataTable) return;\n",
              "\n",
              "          const docLinkHtml = 'Like what you see? Visit the ' +\n",
              "            '<a target=\"_blank\" href=https://colab.research.google.com/notebooks/data_table.ipynb>data table notebook</a>'\n",
              "            + ' to learn more about interactive tables.';\n",
              "          element.innerHTML = '';\n",
              "          dataTable['output_type'] = 'display_data';\n",
              "          await google.colab.output.renderOutput(dataTable, element);\n",
              "          const docLink = document.createElement('div');\n",
              "          docLink.innerHTML = docLinkHtml;\n",
              "          element.appendChild(docLink);\n",
              "        }\n",
              "      </script>\n",
              "    </div>\n",
              "  </div>\n",
              "  "
            ],
            "text/plain": [
              "       Lemma\n",
              "label       \n",
              "0       4904\n",
              "1       4904"
            ]
          },
          "execution_count": 38,
          "metadata": {},
          "output_type": "execute_result"
        }
      ],
      "source": [
        "df.groupby(['label']).count().head()"
      ]
    },
    {
      "cell_type": "code",
      "execution_count": null,
      "metadata": {
        "colab": {
          "background_save": true
        },
        "id": "PUH93XSoK2hZ"
      },
      "outputs": [],
      "source": [
        "from sklearn.model_selection import train_test_split\n",
        "X = df['Lemma']\n",
        "y = df['label']\n",
        "X_trainA, X_testA, y_trainA, y_testA = train_test_split(X,y,test_size=0.1,stratify=y,random_state=0)\n",
        "X_trainB, X_testB, y_trainB, y_testB = train_test_split(X,y,test_size=0.2,stratify=y,random_state=0)\n",
        "X_trainC, X_testC, y_trainC, y_testC = train_test_split(X,y,test_size=0.3,stratify=y,random_state=0)"
      ]
    },
    {
      "cell_type": "code",
      "execution_count": null,
      "metadata": {
        "colab": {
          "background_save": true
        },
        "id": "4xyIQfiyMu-Q"
      },
      "outputs": [],
      "source": [
        "from sklearn.feature_extraction.text import TfidfVectorizer"
      ]
    },
    {
      "cell_type": "code",
      "execution_count": null,
      "metadata": {
        "colab": {
          "background_save": true
        },
        "id": "8yxou4ViM_DY"
      },
      "outputs": [],
      "source": [
        "vectorizer = TfidfVectorizer()"
      ]
    },
    {
      "cell_type": "code",
      "execution_count": null,
      "metadata": {
        "colab": {
          "background_save": true,
          "base_uri": "https://localhost:8080/"
        },
        "id": "YVg8gc83NYth",
        "outputId": "56981784-fcb2-4a6d-f4d1-0a4293773a50"
      },
      "outputs": [
        {
          "name": "stdout",
          "output_type": "stream",
          "text": [
            "(8827, 9955)\n",
            "(981, 9955)\n"
          ]
        }
      ],
      "source": [
        "X_trainA = vectorizer.fit_transform(X_trainA)\n",
        "X_testA = vectorizer.transform(X_testA)\n",
        "print(X_trainA.shape)\n",
        "print(X_testA.shape)"
      ]
    },
    {
      "cell_type": "code",
      "execution_count": null,
      "metadata": {
        "colab": {
          "background_save": true,
          "base_uri": "https://localhost:8080/"
        },
        "id": "ITmi_xn5AWiK",
        "outputId": "47e8095a-f134-457b-9f7f-77cac0c9a9a5"
      },
      "outputs": [
        {
          "name": "stdout",
          "output_type": "stream",
          "text": [
            "(7846, 9537)\n",
            "(1962, 9537)\n"
          ]
        }
      ],
      "source": [
        "X_trainB = vectorizer.fit_transform(X_trainB)\n",
        "X_testB = vectorizer.transform(X_testB)\n",
        "print(X_trainB.shape)\n",
        "print(X_testB.shape)"
      ]
    },
    {
      "cell_type": "code",
      "execution_count": null,
      "metadata": {
        "colab": {
          "background_save": true,
          "base_uri": "https://localhost:8080/"
        },
        "id": "t6DIaibOAYU1",
        "outputId": "4c7052f2-f35c-4312-eba4-17160519ee0c"
      },
      "outputs": [
        {
          "name": "stdout",
          "output_type": "stream",
          "text": [
            "(6865, 9019)\n",
            "(2943, 9019)\n"
          ]
        }
      ],
      "source": [
        "X_trainC = vectorizer.fit_transform(X_trainC)\n",
        "X_testC = vectorizer.transform(X_testC)\n",
        "print(X_trainC.shape)\n",
        "print(X_testC.shape)"
      ]
    },
    {
      "cell_type": "code",
      "execution_count": null,
      "metadata": {
        "colab": {
          "background_save": true,
          "base_uri": "https://localhost:8080/"
        },
        "id": "IazpmravIEVN",
        "outputId": "64dcbada-29d1-4d6b-a2c8-97fb3d6ce2f1"
      },
      "outputs": [
        {
          "name": "stdout",
          "output_type": "stream",
          "text": [
            "(9808, 9019)\n"
          ]
        }
      ],
      "source": [
        "X = df['Lemma']\n",
        "y = df['label']\n",
        "\n",
        "X = vectorizer.transform(X)\n",
        "print(X.shape)"
      ]
    },
    {
      "cell_type": "code",
      "execution_count": null,
      "metadata": {
        "colab": {
          "background_save": true
        },
        "id": "CjwK7Yz6RpWN"
      },
      "outputs": [],
      "source": [
        "from sklearn import svm\n",
        "from sklearn.model_selection import cross_val_score\n",
        "clf = svm.SVC(kernel='linear')"
      ]
    },
    {
      "cell_type": "code",
      "execution_count": null,
      "metadata": {
        "colab": {
          "background_save": true
        },
        "id": "3ApJOIqdSJta"
      },
      "outputs": [],
      "source": [
        "clf.fit(X_trainA,y_trainA)\n",
        "predictA = clf.predict(X_testA)"
      ]
    },
    {
      "cell_type": "code",
      "execution_count": null,
      "metadata": {
        "colab": {
          "background_save": true
        },
        "id": "F-hKJwp4YD1D",
        "outputId": "6545f2c4-f0ed-43e3-a055-fcd4f446bc1a"
      },
      "outputs": [
        {
          "data": {
            "text/plain": [
              "{0: 494, 1: 487}"
            ]
          },
          "execution_count": 48,
          "metadata": {},
          "output_type": "execute_result"
        }
      ],
      "source": [
        "import numpy\n",
        "unique, counts = numpy.unique(predictA, return_counts=True)\n",
        "dict(zip(unique, counts))"
      ]
    },
    {
      "cell_type": "code",
      "execution_count": null,
      "metadata": {
        "colab": {
          "background_save": true
        },
        "id": "asIEWfL2AePP"
      },
      "outputs": [],
      "source": [
        "clf.fit(X_trainB,y_trainB)\n",
        "predictB = clf.predict(X_testB)"
      ]
    },
    {
      "cell_type": "code",
      "execution_count": null,
      "metadata": {
        "colab": {
          "background_save": true
        },
        "id": "B38bUcgBYILd",
        "outputId": "87a50ba3-da8b-4c9c-edcc-cc387516b108"
      },
      "outputs": [
        {
          "data": {
            "text/plain": [
              "{0: 994, 1: 968}"
            ]
          },
          "execution_count": 50,
          "metadata": {},
          "output_type": "execute_result"
        }
      ],
      "source": [
        "unique, counts = numpy.unique(predictB, return_counts=True)\n",
        "dict(zip(unique, counts))"
      ]
    },
    {
      "cell_type": "code",
      "execution_count": null,
      "metadata": {
        "colab": {
          "background_save": true
        },
        "id": "kdU6yjuGAhOy"
      },
      "outputs": [],
      "source": [
        "clf.fit(X_trainC,y_trainC)\n",
        "predictC = clf.predict(X_testC)"
      ]
    },
    {
      "cell_type": "code",
      "execution_count": null,
      "metadata": {
        "colab": {
          "background_save": true,
          "base_uri": "https://localhost:8080/"
        },
        "id": "Xx1g2QCtUB-f",
        "outputId": "af6fec02-4662-49ae-d39c-45fd39d15125"
      },
      "outputs": [
        {
          "data": {
            "text/plain": [
              "{0: 1500, 1: 1443}"
            ]
          },
          "execution_count": 52,
          "metadata": {},
          "output_type": "execute_result"
        }
      ],
      "source": [
        "unique, counts = numpy.unique(predictC, return_counts=True)\n",
        "dict(zip(unique, counts))"
      ]
    },
    {
      "cell_type": "code",
      "execution_count": null,
      "metadata": {
        "colab": {
          "background_save": true
        },
        "id": "50tRGTVzSWVm"
      },
      "outputs": [],
      "source": [
        "from sklearn.metrics import f1_score, recall_score, precision_score, confusion_matrix, accuracy_score, classification_report\n"
      ]
    },
    {
      "cell_type": "code",
      "execution_count": null,
      "metadata": {
        "colab": {
          "background_save": true,
          "base_uri": "https://localhost:8080/"
        },
        "id": "_wBa1lExSqkS",
        "outputId": "1fa7b874-031b-4634-f797-64bb36b43ebc"
      },
      "outputs": [
        {
          "name": "stdout",
          "output_type": "stream",
          "text": [
            "=== SPLIT 90 : 10 ===\n",
            "f1 score hasil prediksi adalah :  0.9437052200614126\n",
            "accuracy score hasil prediksi adalah:  0.9439347604485219\n",
            "precision score hasil prediksi adalah:  0.946611909650924\n",
            "recall score hasil prediksi adalah:  0.9408163265306122\n",
            "CONFUSION MATRIX :\n",
            "TP = 461\n",
            "FP = 26\n",
            "TN = 465\n",
            "FN = 29\n",
            " \n",
            "=== SPLIT 80 : 20 ===\n",
            "f1 score hasil prediksi adalah :  0.938943047716778\n",
            "accuracy score hasil prediksi adalah:  0.9393476044852191\n",
            "precision score hasil prediksi adalah:  0.9452479338842975\n",
            "recall score hasil prediksi adalah:  0.9327217125382263\n",
            "CONFUSION MATRIX :\n",
            "TP = 915\n",
            "FP = 53\n",
            "TN = 928\n",
            "FN = 66\n",
            " \n",
            "=== SPLIT 70 : 30 ===\n",
            "f1 score hasil prediksi adalah :  0.9245024021962936\n",
            "accuracy score hasil prediksi adalah:  0.9252463472646959\n",
            "precision score hasil prediksi adalah:  0.9334719334719335\n",
            "recall score hasil prediksi adalah:  0.9157036029911625\n",
            "CONFUSION MATRIX :\n",
            "TP = 1347\n",
            "FP = 96\n",
            "TN = 1376\n",
            "FN = 124\n"
          ]
        }
      ],
      "source": [
        "print('=== SPLIT 90 : 10 ===')\n",
        "print('f1 score hasil prediksi adalah : ',f1_score(y_testA, predictA))\n",
        "print('accuracy score hasil prediksi adalah: ',accuracy_score(y_testA,predictA))\n",
        "print('precision score hasil prediksi adalah: ',precision_score(y_testA,predictA))\n",
        "print('recall score hasil prediksi adalah: ',recall_score(y_testA,predictA))\n",
        "print('CONFUSION MATRIX :')\n",
        "tn, fp, fn, tp = confusion_matrix(y_testA,predictA).ravel()\n",
        "print('TP =',tp)\n",
        "print('FP =',fp)\n",
        "print('TN =',tn)\n",
        "print('FN =',fn)\n",
        "print(' ')\n",
        "print('=== SPLIT 80 : 20 ===')\n",
        "print('f1 score hasil prediksi adalah : ',f1_score(y_testB, predictB))\n",
        "print('accuracy score hasil prediksi adalah: ',accuracy_score(y_testB,predictB))\n",
        "print('precision score hasil prediksi adalah: ',precision_score(y_testB,predictB))\n",
        "print('recall score hasil prediksi adalah: ',recall_score(y_testB,predictB))\n",
        "print('CONFUSION MATRIX :')\n",
        "tn1, fp1, fn1, tp1 = confusion_matrix(y_testB,predictB).ravel()\n",
        "print('TP =',tp1)\n",
        "print('FP =',fp1)\n",
        "print('TN =',tn1)\n",
        "print('FN =',fn1)\n",
        "print(' ')\n",
        "print('=== SPLIT 70 : 30 ===')\n",
        "print('f1 score hasil prediksi adalah : ',f1_score(y_testC, predictC))\n",
        "print('accuracy score hasil prediksi adalah: ',accuracy_score(y_testC,predictC))\n",
        "print('precision score hasil prediksi adalah: ',precision_score(y_testC,predictC))\n",
        "print('recall score hasil prediksi adalah: ',recall_score(y_testC,predictC))\n",
        "print('CONFUSION MATRIX :')\n",
        "tn2, fp2, fn2, tp2 = confusion_matrix(y_testC,predictC).ravel()\n",
        "print('TP =',tp2)\n",
        "print('FP =',fp2)\n",
        "print('TN =',tn2)\n",
        "print('FN =',fn2)\n"
      ]
    },
    {
      "cell_type": "code",
      "execution_count": null,
      "metadata": {
        "colab": {
          "background_save": true,
          "base_uri": "https://localhost:8080/"
        },
        "id": "gV9oVxbzbb68",
        "outputId": "6ada392b-878d-4c84-b9f4-1ec7c25a292d"
      },
      "outputs": [
        {
          "name": "stdout",
          "output_type": "stream",
          "text": [
            "=== classification report A ===\n",
            "              precision    recall  f1-score   support\n",
            "\n",
            "           0       0.94      0.95      0.94       491\n",
            "           1       0.95      0.94      0.94       490\n",
            "\n",
            "    accuracy                           0.94       981\n",
            "   macro avg       0.94      0.94      0.94       981\n",
            "weighted avg       0.94      0.94      0.94       981\n",
            "\n",
            "=== classification report B ===\n",
            "              precision    recall  f1-score   support\n",
            "\n",
            "           0       0.93      0.95      0.94       981\n",
            "           1       0.95      0.93      0.94       981\n",
            "\n",
            "    accuracy                           0.94      1962\n",
            "   macro avg       0.94      0.94      0.94      1962\n",
            "weighted avg       0.94      0.94      0.94      1962\n",
            "\n",
            "=== classification report C ===\n",
            "              precision    recall  f1-score   support\n",
            "\n",
            "           0       0.92      0.93      0.93      1472\n",
            "           1       0.93      0.92      0.92      1471\n",
            "\n",
            "    accuracy                           0.93      2943\n",
            "   macro avg       0.93      0.93      0.93      2943\n",
            "weighted avg       0.93      0.93      0.93      2943\n",
            "\n"
          ]
        }
      ],
      "source": [
        "from sklearn.metrics import classification_report\n",
        "print('=== classification report A ===')\n",
        "p = classification_report(y_testA, predictA)\n",
        "print(p)\n",
        "print('=== classification report B ===')\n",
        "p1 = classification_report(y_testB, predictB)\n",
        "print(p1)\n",
        "print('=== classification report C ===')\n",
        "p2 = classification_report(y_testC, predictC)\n",
        "print(p2)"
      ]
    },
    {
      "cell_type": "code",
      "execution_count": null,
      "metadata": {
        "colab": {
          "base_uri": "https://localhost:8080/"
        },
        "id": "SYR0pg6K5g-M",
        "outputId": "b44c1cee-521b-420a-c9a8-f90b178fa182"
      },
      "outputs": [
        {
          "name": "stdout",
          "output_type": "stream",
          "text": [
            "[0.93272171 0.93272171 0.93170234 0.93272171 0.95107034 0.94699286\n",
            " 0.95005097 0.93272171 0.94591837 0.9255102 ]\n",
            "Accuracy: 93.82 %\n"
          ]
        }
      ],
      "source": [
        "accuracies = cross_val_score(clf,X,y, cv=10)\n",
        "print(accuracies)\n",
        "print(\"Accuracy: {:.2f} %\".format(accuracies.mean()*100))"
      ]
    },
    {
      "cell_type": "code",
      "execution_count": null,
      "metadata": {
        "id": "88IuY14LgpMa"
      },
      "outputs": [],
      "source": []
    }
  ],
  "metadata": {
    "colab": {
      "collapsed_sections": [],
      "provenance": []
    },
    "kernelspec": {
      "display_name": "Python 3",
      "name": "python3"
    },
    "language_info": {
      "name": "python"
    }
  },
  "nbformat": 4,
  "nbformat_minor": 0
}