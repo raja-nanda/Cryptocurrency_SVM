{
  "nbformat": 4,
  "nbformat_minor": 0,
  "metadata": {
    "colab": {
      "provenance": []
    },
    "kernelspec": {
      "name": "python3",
      "display_name": "Python 3"
    },
    "language_info": {
      "name": "python"
    }
  },
  "cells": [
    {
      "cell_type": "code",
      "execution_count": null,
      "metadata": {
        "id": "rRTyCjI9-VkF"
      },
      "outputs": [],
      "source": [
        "import pandas as pd"
      ]
    },
    {
      "cell_type": "code",
      "source": [
        "df_prep = pd.read_csv('labelled_datasetbaru.csv',engine='python')"
      ],
      "metadata": {
        "id": "v5tCs043ApO5"
      },
      "execution_count": null,
      "outputs": []
    },
    {
      "cell_type": "code",
      "source": [
        "df_prep['label'].value_counts()"
      ],
      "metadata": {
        "colab": {
          "base_uri": "https://localhost:8080/"
        },
        "id": "jkNFgg4rCv7w",
        "outputId": "78b1e9e4-fe5f-41d7-f556-46869205dcd6"
      },
      "execution_count": null,
      "outputs": [
        {
          "output_type": "execute_result",
          "data": {
            "text/plain": [
              "1    12283\n",
              "0     4904\n",
              "Name: label, dtype: int64"
            ]
          },
          "metadata": {},
          "execution_count": 3
        }
      ]
    },
    {
      "cell_type": "code",
      "source": [
        "from imblearn.over_sampling import SMOTE"
      ],
      "metadata": {
        "id": "kQz8iWnAN9Nc"
      },
      "execution_count": null,
      "outputs": []
    },
    {
      "cell_type": "code",
      "source": [
        "print(df_prep.shape)\n",
        "print(df_prep['label'].value_counts(normalize=True))"
      ],
      "metadata": {
        "colab": {
          "base_uri": "https://localhost:8080/"
        },
        "id": "GutRwsZXQMHp",
        "outputId": "08672622-a837-4ccc-8516-3779352c67df"
      },
      "execution_count": null,
      "outputs": [
        {
          "output_type": "stream",
          "name": "stdout",
          "text": [
            "(17187, 7)\n",
            "1    0.714668\n",
            "0    0.285332\n",
            "Name: label, dtype: float64\n"
          ]
        }
      ]
    },
    {
      "cell_type": "code",
      "source": [
        "df_prep.info()"
      ],
      "metadata": {
        "id": "hMVh_fsXLUAh",
        "outputId": "52f928f5-0713-4c16-aafa-4fc3229a98f5",
        "colab": {
          "base_uri": "https://localhost:8080/"
        }
      },
      "execution_count": null,
      "outputs": [
        {
          "output_type": "stream",
          "name": "stdout",
          "text": [
            "<class 'pandas.core.frame.DataFrame'>\n",
            "RangeIndex: 17187 entries, 0 to 17186\n",
            "Data columns (total 7 columns):\n",
            " #   Column        Non-Null Count  Dtype  \n",
            "---  ------        --------------  -----  \n",
            " 0   Unnamed: 0    17187 non-null  int64  \n",
            " 1   username      17187 non-null  object \n",
            " 2   Lemma         17187 non-null  object \n",
            " 3   Subjectivity  17187 non-null  float64\n",
            " 4   Polarity      17187 non-null  float64\n",
            " 5   Textblob      17187 non-null  object \n",
            " 6   label         17187 non-null  int64  \n",
            "dtypes: float64(2), int64(2), object(3)\n",
            "memory usage: 940.0+ KB\n"
          ]
        }
      ]
    },
    {
      "cell_type": "code",
      "source": [
        "from sklearn.model_selection import train_test_split\n",
        "X = df_prep['Lemma']\n",
        "y = df_prep['label']\n",
        "X_trainA, X_testA, y_trainA, y_testA = train_test_split(X,y,test_size=0.1,stratify=y,random_state=0)\n",
        "X_trainB, X_testB, y_trainB, y_testB = train_test_split(X,y,test_size=0.2,stratify=y,random_state=0)\n",
        "X_trainC, X_testC, y_trainC, y_testC = train_test_split(X,y,test_size=0.3,stratify=y,random_state=0)"
      ],
      "metadata": {
        "id": "PUH93XSoK2hZ"
      },
      "execution_count": null,
      "outputs": []
    },
    {
      "cell_type": "code",
      "source": [
        "from sklearn.feature_extraction.text import TfidfVectorizer"
      ],
      "metadata": {
        "id": "4xyIQfiyMu-Q"
      },
      "execution_count": null,
      "outputs": []
    },
    {
      "cell_type": "code",
      "source": [
        "vectorizer = TfidfVectorizer()"
      ],
      "metadata": {
        "id": "8yxou4ViM_DY"
      },
      "execution_count": null,
      "outputs": []
    },
    {
      "cell_type": "markdown",
      "source": [
        "**TF-IDF 90 : 10**"
      ],
      "metadata": {
        "id": "LUJTB1Yc10dL"
      }
    },
    {
      "cell_type": "code",
      "source": [
        "X_trainA = vectorizer.fit_transform(X_trainA)\n",
        "X_testA = vectorizer.transform(X_testA)\n",
        "print(X_trainA.shape)\n",
        "print(X_testA.shape)"
      ],
      "metadata": {
        "colab": {
          "base_uri": "https://localhost:8080/"
        },
        "id": "YVg8gc83NYth",
        "outputId": "b09c57cf-2b7c-469a-e032-e4aed9ba9abe"
      },
      "execution_count": null,
      "outputs": [
        {
          "output_type": "stream",
          "name": "stdout",
          "text": [
            "(15468, 15791)\n",
            "(1719, 15791)\n"
          ]
        }
      ]
    },
    {
      "cell_type": "markdown",
      "source": [
        "**TF-IDF 80 : 20**"
      ],
      "metadata": {
        "id": "8YKD268P18UM"
      }
    },
    {
      "cell_type": "code",
      "source": [
        "X_trainB = vectorizer.fit_transform(X_trainB)\n",
        "X_testB = vectorizer.transform(X_testB)\n",
        "print(X_trainB.shape)\n",
        "print(X_testB.shape)"
      ],
      "metadata": {
        "colab": {
          "base_uri": "https://localhost:8080/"
        },
        "id": "U-AznBnX1XYd",
        "outputId": "4b0b728f-569d-45c5-f2f4-d5518430c51d"
      },
      "execution_count": null,
      "outputs": [
        {
          "output_type": "stream",
          "name": "stdout",
          "text": [
            "(13749, 14808)\n",
            "(3438, 14808)\n"
          ]
        }
      ]
    },
    {
      "cell_type": "markdown",
      "source": [
        "**TF-IDF 70 : 30**"
      ],
      "metadata": {
        "id": "ztURYIlO2BO2"
      }
    },
    {
      "cell_type": "code",
      "source": [
        "X_trainC = vectorizer.fit_transform(X_trainC)\n",
        "X_testC = vectorizer.transform(X_testC)\n",
        "print(X_trainC.shape)\n",
        "print(X_testC.shape)"
      ],
      "metadata": {
        "colab": {
          "base_uri": "https://localhost:8080/"
        },
        "id": "m-7nf2oD1ZNj",
        "outputId": "ac20e470-eba1-4663-86d4-1755276b54c5"
      },
      "execution_count": null,
      "outputs": [
        {
          "output_type": "stream",
          "name": "stdout",
          "text": [
            "(12030, 13758)\n",
            "(5157, 13758)\n"
          ]
        }
      ]
    },
    {
      "cell_type": "markdown",
      "source": [
        "**SMOTE 90 : 10**"
      ],
      "metadata": {
        "id": "iI7eX2WC2LQ9"
      }
    },
    {
      "cell_type": "code",
      "source": [
        "print(\"Before OverSampling, counts of label '1': {}\".format(sum(y_trainA==1)))\n",
        "print(\"Before OverSampling, counts of label '0': {} \\n\".format(sum(y_trainA==0)))\n",
        "\n",
        "sm = SMOTE(random_state=2)\n",
        "X_train_resA, y_train_resA = sm.fit_resample(X_trainA, y_trainA.ravel())\n",
        "\n",
        "print('After OverSampling, the shape of train_X: {}'.format(X_train_resA.shape))\n",
        "print('After OverSampling, the shape of train_y: {} \\n'.format(y_train_resA.shape))\n",
        "\n",
        "print(\"After OverSampling, counts of label '1': {}\".format(sum(y_train_resA==1)))\n",
        "print(\"After OverSampling, counts of label '0': {}\".format(sum(y_train_resA==0)))"
      ],
      "metadata": {
        "colab": {
          "base_uri": "https://localhost:8080/"
        },
        "id": "9ObxhYfpR5-m",
        "outputId": "ea29ba73-1460-48cb-ddb3-38a4cf9f3210"
      },
      "execution_count": null,
      "outputs": [
        {
          "output_type": "stream",
          "name": "stdout",
          "text": [
            "Before OverSampling, counts of label '1': 11054\n",
            "Before OverSampling, counts of label '0': 4414 \n",
            "\n",
            "After OverSampling, the shape of train_X: (22108, 15791)\n",
            "After OverSampling, the shape of train_y: (22108,) \n",
            "\n",
            "After OverSampling, counts of label '1': 11054\n",
            "After OverSampling, counts of label '0': 11054\n"
          ]
        }
      ]
    },
    {
      "cell_type": "markdown",
      "source": [
        "**SMOTE 80 : 20**"
      ],
      "metadata": {
        "id": "NKZA3Evy2c9v"
      }
    },
    {
      "cell_type": "code",
      "source": [
        "print(\"Before OverSampling, counts of label '1': {}\".format(sum(y_trainB==1)))\n",
        "print(\"Before OverSampling, counts of label '0': {} \\n\".format(sum(y_trainB==0)))\n",
        "\n",
        "sm = SMOTE(random_state=2)\n",
        "X_train_resB, y_train_resB = sm.fit_resample(X_trainB, y_trainB.ravel())\n",
        "\n",
        "print('After OverSampling, the shape of train_X: {}'.format(X_train_resB.shape))\n",
        "print('After OverSampling, the shape of train_y: {} \\n'.format(y_train_resB.shape))\n",
        "\n",
        "print(\"After OverSampling, counts of label '1': {}\".format(sum(y_train_resB==1)))\n",
        "print(\"After OverSampling, counts of label '0': {}\".format(sum(y_train_resB==0)))"
      ],
      "metadata": {
        "colab": {
          "base_uri": "https://localhost:8080/"
        },
        "id": "rUmyfN542i4s",
        "outputId": "832a94f6-7675-4b37-bf13-a1a463741e6c"
      },
      "execution_count": null,
      "outputs": [
        {
          "output_type": "stream",
          "name": "stdout",
          "text": [
            "Before OverSampling, counts of label '1': 9826\n",
            "Before OverSampling, counts of label '0': 3923 \n",
            "\n",
            "After OverSampling, the shape of train_X: (19652, 14808)\n",
            "After OverSampling, the shape of train_y: (19652,) \n",
            "\n",
            "After OverSampling, counts of label '1': 9826\n",
            "After OverSampling, counts of label '0': 9826\n"
          ]
        }
      ]
    },
    {
      "cell_type": "markdown",
      "source": [
        "**SMOTE 70 : 30**"
      ],
      "metadata": {
        "id": "wle9h09R2qjJ"
      }
    },
    {
      "cell_type": "code",
      "source": [
        "print(\"Before OverSampling, counts of label '1': {}\".format(sum(y_trainC==1)))\n",
        "print(\"Before OverSampling, counts of label '0': {} \\n\".format(sum(y_trainC==0)))\n",
        "\n",
        "sm = SMOTE(random_state=2)\n",
        "X_train_resC, y_train_resC = sm.fit_resample(X_trainC, y_trainC.ravel())\n",
        "\n",
        "print('After OverSampling, the shape of train_X: {}'.format(X_train_resC.shape))\n",
        "print('After OverSampling, the shape of train_y: {} \\n'.format(y_train_resC.shape))\n",
        "\n",
        "print(\"After OverSampling, counts of label '1': {}\".format(sum(y_train_resC==1)))\n",
        "print(\"After OverSampling, counts of label '0': {}\".format(sum(y_train_resC==0)))"
      ],
      "metadata": {
        "colab": {
          "base_uri": "https://localhost:8080/"
        },
        "id": "IUiHFcfv2uC1",
        "outputId": "0ef188ac-67f6-4858-dc5b-7063e2f316ce"
      },
      "execution_count": null,
      "outputs": [
        {
          "output_type": "stream",
          "name": "stdout",
          "text": [
            "Before OverSampling, counts of label '1': 8597\n",
            "Before OverSampling, counts of label '0': 3433 \n",
            "\n",
            "After OverSampling, the shape of train_X: (17194, 13758)\n",
            "After OverSampling, the shape of train_y: (17194,) \n",
            "\n",
            "After OverSampling, counts of label '1': 8597\n",
            "After OverSampling, counts of label '0': 8597\n"
          ]
        }
      ]
    },
    {
      "cell_type": "code",
      "source": [
        "from sklearn import svm\n",
        "from sklearn.model_selection import cross_val_score\n",
        "clf = svm.SVC(kernel='linear')"
      ],
      "metadata": {
        "id": "CjwK7Yz6RpWN"
      },
      "execution_count": null,
      "outputs": []
    },
    {
      "cell_type": "markdown",
      "source": [
        "**TRAIN MODEL 90 : 10**"
      ],
      "metadata": {
        "id": "vGebt9-i3Eqo"
      }
    },
    {
      "cell_type": "code",
      "source": [
        "clf.fit(X_train_resA,y_train_resA)\n",
        "predictA = clf.predict(X_testA)"
      ],
      "metadata": {
        "id": "3ApJOIqdSJta"
      },
      "execution_count": null,
      "outputs": []
    },
    {
      "cell_type": "code",
      "source": [
        "import numpy\n",
        "unique, counts = numpy.unique(predictA, return_counts=True)\n",
        "dict(zip(unique, counts))"
      ],
      "metadata": {
        "colab": {
          "base_uri": "https://localhost:8080/"
        },
        "id": "FIUBnbEIYb43",
        "outputId": "eaf1f9d2-abb9-4a9a-c083-9228c1e4726f"
      },
      "execution_count": null,
      "outputs": [
        {
          "output_type": "execute_result",
          "data": {
            "text/plain": [
              "{0: 511, 1: 1208}"
            ]
          },
          "metadata": {},
          "execution_count": 27
        }
      ]
    },
    {
      "cell_type": "markdown",
      "source": [
        "**TRAIN MODEL 80 : 20**"
      ],
      "metadata": {
        "id": "IFsnIE453w4n"
      }
    },
    {
      "cell_type": "code",
      "source": [
        "clf.fit(X_train_resB,y_train_resB)\n",
        "predictB = clf.predict(X_testB)"
      ],
      "metadata": {
        "id": "3L5v3Otu3ziW"
      },
      "execution_count": null,
      "outputs": []
    },
    {
      "cell_type": "code",
      "source": [
        "unique, counts = numpy.unique(predictB, return_counts=True)\n",
        "dict(zip(unique, counts))"
      ],
      "metadata": {
        "colab": {
          "base_uri": "https://localhost:8080/"
        },
        "id": "EyYjd3rHYeRL",
        "outputId": "ad034593-ab41-4fd9-dcdb-260e0aacf3bd"
      },
      "execution_count": null,
      "outputs": [
        {
          "output_type": "execute_result",
          "data": {
            "text/plain": [
              "{0: 997, 1: 2441}"
            ]
          },
          "metadata": {},
          "execution_count": 28
        }
      ]
    },
    {
      "cell_type": "markdown",
      "source": [
        "**TRAIN MODEL 70 : 30**"
      ],
      "metadata": {
        "id": "TXiuo7P735JG"
      }
    },
    {
      "cell_type": "code",
      "source": [
        "clf.fit(X_train_resC,y_train_resC)\n",
        "predictC = clf.predict(X_testC)"
      ],
      "metadata": {
        "id": "5_XUXJ543754"
      },
      "execution_count": null,
      "outputs": []
    },
    {
      "cell_type": "code",
      "source": [
        "unique, counts = numpy.unique(predictC, return_counts=True)\n",
        "dict(zip(unique, counts))"
      ],
      "metadata": {
        "colab": {
          "base_uri": "https://localhost:8080/"
        },
        "id": "a6jJUBNoSqtq",
        "outputId": "8e545e39-573c-46d4-f194-02b4b32529d0"
      },
      "execution_count": null,
      "outputs": [
        {
          "output_type": "execute_result",
          "data": {
            "text/plain": [
              "{0: 1480, 1: 3677}"
            ]
          },
          "metadata": {},
          "execution_count": 29
        }
      ]
    },
    {
      "cell_type": "code",
      "source": [
        "from sklearn.metrics import f1_score, recall_score, precision_score, confusion_matrix, accuracy_score\n"
      ],
      "metadata": {
        "id": "50tRGTVzSWVm"
      },
      "execution_count": null,
      "outputs": []
    },
    {
      "cell_type": "code",
      "source": [
        "print('=== SPLIT 90 : 10 ===')\n",
        "print('f1 score hasil prediksi adalah : ',f1_score(y_testA, predictA))\n",
        "print('accuracy score hasil prediksi adalah: ',accuracy_score(y_testA,predictA))\n",
        "print('precision score hasil prediksi adalah: ',precision_score(y_testA,predictA))\n",
        "print('recall score hasil prediksi adalah: ',recall_score(y_testA,predictA))\n",
        "print('CONFUSION MATRIX :')\n",
        "tn, fp, fn, tp = confusion_matrix(y_testA,predictA).ravel()\n",
        "print('TP =',tp)\n",
        "print('FP =',fp)\n",
        "print('TN =',tn)\n",
        "print('FN =',fn)\n",
        "print(' ')\n",
        "print('=== SPLIT 80 : 20 ===')\n",
        "print('f1 score hasil prediksi adalah : ',f1_score(y_testB, predictB))\n",
        "print('accuracy score hasil prediksi adalah: ',accuracy_score(y_testB,predictB))\n",
        "print('precision score hasil prediksi adalah: ',precision_score(y_testB,predictB))\n",
        "print('recall score hasil prediksi adalah: ',recall_score(y_testB,predictB))\n",
        "print('CONFUSION MATRIX :')\n",
        "tn1, fp1, fn1, tp1 = confusion_matrix(y_testB,predictB).ravel()\n",
        "print('TP =',tp1)\n",
        "print('FP =',fp1)\n",
        "print('TN =',tn1)\n",
        "print('FN =',fn1)\n",
        "print(' ')\n",
        "print('=== SPLIT 70 : 30 ===')\n",
        "print('f1 score hasil prediksi adalah : ',f1_score(y_testC, predictC))\n",
        "print('accuracy score hasil prediksi adalah: ',accuracy_score(y_testC,predictC))\n",
        "print('precision score hasil prediksi adalah: ',precision_score(y_testC,predictC))\n",
        "print('recall score hasil prediksi adalah: ',recall_score(y_testC,predictC))\n",
        "print('CONFUSION MATRIX :')\n",
        "tn2, fp2, fn2, tp2 = confusion_matrix(y_testC,predictC).ravel()\n",
        "print('TP =',tp2)\n",
        "print('FP =',fp2)\n",
        "print('TN =',tn2)\n",
        "print('FN =',fn2)\n"
      ],
      "metadata": {
        "colab": {
          "base_uri": "https://localhost:8080/"
        },
        "id": "_wBa1lExSqkS",
        "outputId": "bdef8938-5084-4c6f-b613-24a7a9574107"
      },
      "execution_count": null,
      "outputs": [
        {
          "output_type": "stream",
          "name": "stdout",
          "text": [
            "=== SPLIT 90 : 10 ===\n",
            "f1 score hasil prediksi adalah :  0.9478867459991794\n",
            "accuracy score hasil prediksi adalah:  0.9261198371146016\n",
            "precision score hasil prediksi adalah:  0.9561258278145696\n",
            "recall score hasil prediksi adalah:  0.9397884458909682\n",
            "CONFUSION MATRIX :\n",
            "TP = 1155\n",
            "FP = 53\n",
            "TN = 437\n",
            "FN = 74\n",
            " \n",
            "=== SPLIT 80 : 20 ===\n",
            "f1 score hasil prediksi adalah :  0.9534503879134341\n",
            "accuracy score hasil prediksi adalah:  0.9336823734729494\n",
            "precision score hasil prediksi adalah:  0.9565751741089717\n",
            "recall score hasil prediksi adalah:  0.9503459503459504\n",
            "CONFUSION MATRIX :\n",
            "TP = 2335\n",
            "FP = 106\n",
            "TN = 875\n",
            "FN = 122\n",
            " \n",
            "=== SPLIT 70 : 30 ===\n",
            "f1 score hasil prediksi adalah :  0.9517859568110826\n",
            "accuracy score hasil prediksi adalah:  0.9311615280201667\n",
            "precision score hasil prediksi adalah:  0.9529507750883873\n",
            "recall score hasil prediksi adalah:  0.9506239826370049\n",
            "CONFUSION MATRIX :\n",
            "TP = 3504\n",
            "FP = 173\n",
            "TN = 1298\n",
            "FN = 182\n"
          ]
        }
      ]
    },
    {
      "cell_type": "code",
      "source": [
        "from sklearn.metrics import classification_report\n",
        "print('=== classification report A ===')\n",
        "p = classification_report(y_testA, predictA)\n",
        "print(p)\n",
        "print('=== classification report B ===')\n",
        "p1 = classification_report(y_testB, predictB)\n",
        "print(p1)\n",
        "print('=== classification report C ===')\n",
        "p2 = classification_report(y_testC, predictC)\n",
        "print(p2)"
      ],
      "metadata": {
        "colab": {
          "base_uri": "https://localhost:8080/"
        },
        "id": "gV9oVxbzbb68",
        "outputId": "36257489-eb0f-48af-b5a1-52d1e05c3c37"
      },
      "execution_count": null,
      "outputs": [
        {
          "output_type": "stream",
          "name": "stdout",
          "text": [
            "=== classification report A ===\n",
            "              precision    recall  f1-score   support\n",
            "\n",
            "           0       0.86      0.89      0.87       490\n",
            "           1       0.96      0.94      0.95      1229\n",
            "\n",
            "    accuracy                           0.93      1719\n",
            "   macro avg       0.91      0.92      0.91      1719\n",
            "weighted avg       0.93      0.93      0.93      1719\n",
            "\n",
            "=== classification report B ===\n",
            "              precision    recall  f1-score   support\n",
            "\n",
            "           0       0.88      0.89      0.88       981\n",
            "           1       0.96      0.95      0.95      2457\n",
            "\n",
            "    accuracy                           0.93      3438\n",
            "   macro avg       0.92      0.92      0.92      3438\n",
            "weighted avg       0.93      0.93      0.93      3438\n",
            "\n",
            "=== classification report C ===\n",
            "              precision    recall  f1-score   support\n",
            "\n",
            "           0       0.88      0.88      0.88      1471\n",
            "           1       0.95      0.95      0.95      3686\n",
            "\n",
            "    accuracy                           0.93      5157\n",
            "   macro avg       0.91      0.92      0.92      5157\n",
            "weighted avg       0.93      0.93      0.93      5157\n",
            "\n"
          ]
        }
      ]
    },
    {
      "cell_type": "code",
      "source": [
        "X = df_prep['Lemma']\n",
        "y = df_prep['label']\n",
        "X = vectorizer.fit_transform(X)"
      ],
      "metadata": {
        "id": "pvp31m8QKIRh"
      },
      "execution_count": null,
      "outputs": []
    },
    {
      "cell_type": "code",
      "source": [
        "accuracies = cross_val_score(clf,X,y, cv=10)\n",
        "print(accuracies)\n",
        "print(\"Accuracy: {:.2f} %\".format(accuracies.mean()*100))"
      ],
      "metadata": {
        "colab": {
          "base_uri": "https://localhost:8080/"
        },
        "id": "SYR0pg6K5g-M",
        "outputId": "170f6e3a-7aee-459b-b697-becacb3174c2"
      },
      "execution_count": null,
      "outputs": [
        {
          "output_type": "stream",
          "name": "stdout",
          "text": [
            "[0.93600931 0.9237929  0.9237929  0.92670157 0.93135544 0.92786504\n",
            " 0.93426411 0.93830035 0.94237485 0.93422584]\n",
            "Accuracy: 93.19 %\n"
          ]
        }
      ]
    }
  ]
}